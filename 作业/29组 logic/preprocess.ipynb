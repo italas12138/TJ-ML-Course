{
 "cells": [
  {
   "cell_type": "code",
   "execution_count": null,
   "id": "345deea4",
   "metadata": {},
   "outputs": [],
   "source": [
    "import pandas as pd"
   ]
  },
  {
   "cell_type": "code",
   "execution_count": null,
   "id": "7ef204bc",
   "metadata": {},
   "outputs": [],
   "source": [
    "train_df = pd.read_csv(\"./train.csv\")\n",
    "test_df =pd.read_csv(\"./test.csv\")"
   ]
  },
  {
   "cell_type": "code",
   "execution_count": null,
   "id": "be1ea22f",
   "metadata": {},
   "outputs": [],
   "source": [
    "print(train_df.info())\n",
    "print(test_df.info())"
   ]
  },
  {
   "cell_type": "markdown",
   "id": "bfe70540",
   "metadata": {},
   "source": [
    "##### 查看各列属性的基本统计信息"
   ]
  },
  {
   "cell_type": "code",
   "execution_count": null,
   "id": "a83f5db0",
   "metadata": {},
   "outputs": [],
   "source": [
    "print(train_df.describe())\n",
    "print(test_df.describe())"
   ]
  },
  {
   "cell_type": "code",
   "execution_count": null,
   "id": "f4876c4e",
   "metadata": {},
   "outputs": [],
   "source": [
    "import numpy as np\n",
    "import seaborn as sns\n",
    "import matplotlib.pyplot as plt"
   ]
  },
  {
   "cell_type": "code",
   "execution_count": null,
   "id": "b72873f2",
   "metadata": {},
   "outputs": [],
   "source": [
    "train_df.head()"
   ]
  },
  {
   "cell_type": "code",
   "execution_count": null,
   "id": "115b027f",
   "metadata": {},
   "outputs": [],
   "source": [
    "train_df['HomePlanet'].unique()"
   ]
  },
  {
   "cell_type": "code",
   "execution_count": null,
   "id": "cfaa8098",
   "metadata": {},
   "outputs": [],
   "source": [
    "#探究连续数据下的人数分布\n",
    "fig, ax = plt.subplots(5,1,  figsize=(10, 10))\n",
    "plt.subplots_adjust(top = 2)\n",
    "\n",
    "sns.histplot(train_df['Age'], color='b', bins=50, ax=ax[0]);\n",
    "sns.histplot(train_df['FoodCourt'], color='b', bins=50, ax=ax[1]);\n",
    "sns.histplot(train_df['ShoppingMall'], color='b', bins=50, ax=ax[2]);\n",
    "sns.histplot(train_df['Spa'], color='b', bins=50, ax=ax[3]);\n",
    "sns.histplot(train_df['VRDeck'], color='b', bins=50, ax=ax[4]);"
   ]
  },
  {
   "cell_type": "code",
   "execution_count": null,
   "id": "83a6d284",
   "metadata": {},
   "outputs": [],
   "source": [
    "label = \"Transported\"\n",
    "train_df[label] = train_df[label].astype(int)"
   ]
  },
  {
   "cell_type": "code",
   "execution_count": null,
   "id": "c227d8f4",
   "metadata": {
    "scrolled": true
   },
   "outputs": [],
   "source": [
    "#去掉ID与名字\n",
    "train_df = train_df.drop(['PassengerId', 'Name'], axis=1)\n",
    "train_df.head(5)"
   ]
  },
  {
   "cell_type": "code",
   "execution_count": null,
   "id": "62b6ccb7",
   "metadata": {
    "scrolled": false
   },
   "outputs": [],
   "source": [
    "#拆分舱位\n",
    "train_df[[\"Deck\", \"Cabin_num\", \"Side\"]] = train_df[\"Cabin\"].str.split(\"/\", expand=True)\n",
    "train_df = train_df.drop('Cabin', axis=1)\n",
    "train_df.head(5)"
   ]
  },
  {
   "cell_type": "code",
   "execution_count": null,
   "id": "b14771f2",
   "metadata": {},
   "outputs": [],
   "source": [
    "train_df['Cabin_num'] = train_df['Cabin_num'].astype(float)\n",
    "train_df.head(5)"
   ]
  },
  {
   "cell_type": "code",
   "execution_count": null,
   "id": "b567bbab",
   "metadata": {},
   "outputs": [],
   "source": [
    "#观察各个因素对于传送的影响\n",
    "\n",
    "# 绘图\n",
    "fig, axs = plt.subplots(13, 1, figsize=(10, 14))\n",
    "plt.subplots_adjust(top = 5)\n",
    "# 母星和传送的关系\n",
    "pd.crosstab(train_df['HomePlanet'], train_df['Transported']).plot(kind='bar', stacked=True, ax=axs[0])\n",
    "axs[0].set_title('Transport distribution by HomePlanet')\n",
    "\n",
    "# 休眠与传送的关系\n",
    "pd.crosstab(train_df['CryoSleep'], train_df['Transported']).plot(kind='bar', stacked=True, ax=axs[1])\n",
    "axs[1].set_title('Transport distribution by CryoSleep')\n",
    "\n",
    "# 目的地与传送的关系\n",
    "pd.crosstab(train_df['Destination'], train_df['Transported']).plot(kind='bar', stacked=True, ax=axs[2])\n",
    "axs[2].set_title('Transport distribution by Destination')\n",
    "\n",
    "#年龄段与传送的关系\n",
    "train_df['Age_group'] = pd.cut(train_df['Age'], bins=range(0, int(np.ceil(train_df['Age'].max())), 10))\n",
    "pd.crosstab(train_df['Age_group'], train_df['Transported']).plot(kind='bar', stacked=True, ax=axs[3])\n",
    "axs[3].set_title('Transport distribution by Age group')\n",
    "\n",
    "#VIP与传送的关系\n",
    "pd.crosstab(train_df['VIP'], train_df['Transported']).plot(kind='bar', stacked=True, ax=axs[4])\n",
    "axs[4].set_title('Transport distribution by VIP')\n",
    "\n",
    "#各消费与传送的关系\n",
    "#RoomService\n",
    "sns.kdeplot(data=train_df['RoomService'][train_df['Transported'] ==1], label='Transported', ax=axs[5])\n",
    "sns.kdeplot(data=train_df['RoomService'][train_df['Transported'] == 0], label='Not Transported', ax=axs[5])\n",
    "axs[5].legend()\n",
    "axs[5].set_xlabel('RoomService')\n",
    "axs[5].set_ylabel('Density')\n",
    "\n",
    "#FoodCourt\n",
    "sns.kdeplot(data=train_df['FoodCourt'][train_df['Transported'] ==1], label='Transported', ax=axs[6])\n",
    "sns.kdeplot(data=train_df['FoodCourt'][train_df['Transported'] == 0], label='Not Transported', ax=axs[6])\n",
    "axs[6].legend()\n",
    "axs[6].set_xlabel('FoodCourt')\n",
    "axs[6].set_ylabel('Density')\n",
    "\n",
    "#ShoppingMall\n",
    "sns.kdeplot(data=train_df['ShoppingMall'][train_df['Transported'] ==1], label='Transported', ax=axs[7])\n",
    "sns.kdeplot(data=train_df['ShoppingMall'][train_df['Transported'] == 0], label='Not Transported', ax=axs[7])\n",
    "axs[7].legend()\n",
    "axs[7].set_xlabel('ShoppingMall')\n",
    "axs[7].set_ylabel('Density')\n",
    "\n",
    "#Spa\n",
    "sns.kdeplot(data=train_df['Spa'][train_df['Transported'] ==1], label='Transported', ax=axs[8])\n",
    "sns.kdeplot(data=train_df['Spa'][train_df['Transported'] == 0], label='Not Transported', ax=axs[8])\n",
    "axs[8].legend()\n",
    "axs[8].set_xlabel('Spa')\n",
    "axs[8].set_ylabel('Density')\n",
    "\n",
    "#VRDeck\n",
    "sns.kdeplot(data=train_df['VRDeck'][train_df['Transported'] ==1], label='Transported', ax=axs[9])\n",
    "sns.kdeplot(data=train_df['VRDeck'][train_df['Transported'] == 0], label='Not Transported', ax=axs[9])\n",
    "axs[9].legend()\n",
    "axs[9].set_xlabel('VRDeck')\n",
    "axs[9].set_ylabel('Density')\n",
    "\n",
    "#Deck,Cabin_num与Side与传送的关系\n",
    "#Deck\n",
    "pd.crosstab(train_df['Deck'], train_df['Transported']).plot(kind='bar', stacked=True, ax=axs[10])\n",
    "axs[10].set_title('Transport distribution by Deck')\n",
    "\n",
    "#Cabin_num\n",
    "sns.kdeplot(data=train_df['Cabin_num'][train_df['Transported']== 1], label='Transported', ax=axs[11])\n",
    "sns.kdeplot(data=train_df['Cabin_num'][train_df['Transported']== 0], label='Not Transported', ax=axs[11])\n",
    "axs[11].legend()\n",
    "axs[11].set_xlabel('Cabin_num')\n",
    "axs[11].set_ylabel('Density')\n",
    "\n",
    "#Side\n",
    "pd.crosstab(train_df['Side'], train_df['Transported']).plot(kind='bar', stacked=True, ax=axs[12])\n",
    "axs[12].set_title('Transport distribution by Side')\n",
    "\n",
    "plt.plot()"
   ]
  },
  {
   "cell_type": "markdown",
   "id": "ababf088",
   "metadata": {},
   "source": [
    "我们通过上面的分布可以看出，HomePlanet,CryoSleep,Roomservice,Spa,VRdeck与transport相关性较强；\n",
    "cabin_num，Side，Destination,VIP,Age,FoodCourt,ShoppingMall,Deck与transport相关性中等；"
   ]
  },
  {
   "cell_type": "code",
   "execution_count": null,
   "id": "acff67cf",
   "metadata": {},
   "outputs": [],
   "source": [
    "# 查看训练集与测试集缺失率\n",
    "print(test_df.isnull().sum().sort_values(ascending = False) / test_df.shape[0])\n",
    "print(train_df.isnull().sum().sort_values(ascending = False) / train_df.shape[0])\n"
   ]
  },
  {
   "cell_type": "code",
   "execution_count": null,
   "id": "fa099270",
   "metadata": {},
   "outputs": [],
   "source": [
    "train_df=train_df.drop(['Age_group'], axis=1)"
   ]
  },
  {
   "cell_type": "code",
   "execution_count": null,
   "id": "af67518e",
   "metadata": {},
   "outputs": [],
   "source": [
    "#使用众数填充相关性中等的数据，用0填充连续型数据缺失值\n",
    "train_df['Destination'].fillna(train_df['Destination'].mode()[0], inplace=True)\n",
    "train_df['VIP'].fillna(train_df['VIP'].mode()[0], inplace=True)\n",
    "train_df['Age'].fillna(train_df['Age'].mode()[0], inplace=True)\n",
    "train_df['FoodCourt'].fillna(0, inplace=True)\n",
    "train_df['RoomService'].fillna(0, inplace=True)\n",
    "train_df['ShoppingMall'].fillna(0, inplace=True)\n",
    "train_df['Spa'].fillna(0, inplace=True)\n",
    "train_df['VRDeck'].fillna(0, inplace=True)\n",
    "train_df['Deck'].fillna(train_df['Deck'].mode()[0], inplace=True)\n",
    "train_df['Cabin_num'].fillna(train_df['Cabin_num'].mode()[0], inplace=True)\n",
    "train_df['Side'].fillna(train_df['Side'].mode()[0], inplace=True)\n",
    "train_df.head()"
   ]
  },
  {
   "cell_type": "code",
   "execution_count": null,
   "id": "58c56650",
   "metadata": {
    "scrolled": true
   },
   "outputs": [],
   "source": [
    "#特征预处理\n",
    "train_df['VIP'] = train_df['VIP'].astype(float)\n",
    "train_df['CryoSleep'] = train_df['CryoSleep'].astype(float)\n",
    "HomePlanet2num={'Europa':0, 'Earth':1, 'Mars':2}\n",
    "train_df['HomePlanet_num'] = train_df['HomePlanet'].map(HomePlanet2num)\n",
    "Destination2num={'TRAPPIST-1e':0,'PSO J318.5-22':1, '55 Cancri e':2}\n",
    "train_df['Destination_num'] = train_df['Destination'].map(Destination2num)\n",
    "train_df['Deck_num'] = train_df['Deck'].apply(lambda x: ord(x)-ord('A') if pd.notnull(x) else np.nan)\n",
    "train_df=train_df.drop(['HomePlanet','Destination','Deck'], axis=1)\n",
    "train_df.head()"
   ]
  },
  {
   "cell_type": "code",
   "execution_count": null,
   "id": "df355360",
   "metadata": {
    "scrolled": true
   },
   "outputs": [],
   "source": [
    "Side2num={'P':0, 'S':1}\n",
    "train_df['Side'] = train_df['Side'].map(Side2num)\n",
    "train_df.head()"
   ]
  },
  {
   "cell_type": "code",
   "execution_count": null,
   "id": "daf7fd57",
   "metadata": {},
   "outputs": [],
   "source": [
    "train_df.drop('CryoSleep', axis=1)[train_df.HomePlanet_num.isnull()].values.shape"
   ]
  },
  {
   "cell_type": "code",
   "execution_count": null,
   "id": "a67ffa40",
   "metadata": {},
   "outputs": [],
   "source": [
    "#使用随机森林填补强相关性分类变量 HomePlanet_num,CryoSleep\n",
    "from sklearn.ensemble import RandomForestRegressor\n",
    "\n",
    "def set_missing_HomePlanet(df):\n",
    "    # 把完整的数值特征取出来，放入随机森林中进行训练\n",
    "    HP_df = df.drop('CryoSleep', axis=1)\n",
    "    # 乘客分成已知和未知两个部分\n",
    "    known_HP = HP_df[HP_df.HomePlanet_num.notnull()].values\n",
    "    unknown_HP = HP_df[HP_df.HomePlanet_num.isnull()].values\n",
    "\n",
    "    #使用随机森林模型来预测缺失值\n",
    "    rf_model = RandomForestRegressor()\n",
    "    rf_model.fit(np.concatenate((known_HP[:,:10],known_HP[:,11:]),axis=1), known_HP[:,10])\n",
    "    predicted_values = rf_model.predict(np.concatenate(( unknown_HP[:,:10], unknown_HP[:,11:]),axis=1))\n",
    "\n",
    "    # 将预测值填补回原始数据集\n",
    "    df.loc[df['HomePlanet_num'].isnull(), 'HomePlanet_num'] = predicted_values\n",
    "\n",
    "    return df\n",
    "train_df=set_missing_HomePlanet(train_df)"
   ]
  },
  {
   "cell_type": "code",
   "execution_count": null,
   "id": "848818be",
   "metadata": {},
   "outputs": [],
   "source": [
    "def set_missing_CryoSleep(df):\n",
    "    # 乘客分成已知和未知两个部分\n",
    "    known_CS = df[df.CryoSleep.notnull()].values\n",
    "    unknown_CS = df[df.CryoSleep.isnull()].values\n",
    "\n",
    "    #使用随机森林模型来预测缺失值\n",
    "    rf_model = RandomForestRegressor()\n",
    "    rf_model.fit(known_CS[:,1:], known_CS[:,0])\n",
    "    predicted_values = rf_model.predict(unknown_CS[:,1:])\n",
    "\n",
    "    # 将预测值填补回原始数据集\n",
    "    df.loc[df['CryoSleep'].isnull(), 'CryoSleep'] = predicted_values\n",
    "\n",
    "    return df\n",
    "train_df=set_missing_CryoSleep(train_df)"
   ]
  },
  {
   "cell_type": "code",
   "execution_count": null,
   "id": "c3329330",
   "metadata": {},
   "outputs": [],
   "source": [
    "print(train_df.isnull().sum().sort_values(ascending = False) / train_df.shape[0])"
   ]
  },
  {
   "cell_type": "code",
   "execution_count": null,
   "id": "a89e4ffc",
   "metadata": {
    "scrolled": true
   },
   "outputs": [],
   "source": [
    "#绘制热力图\n",
    "correlation_matrix = train_df.corr()\n",
    "\n",
    "# 绘制热力图\n",
    "plt.figure(figsize=(10, 8))\n",
    "sns.heatmap(correlation_matrix, annot=True, cmap='coolwarm', center=0)\n",
    "plt.title('Correlation Heatmap')\n",
    "plt.show()"
   ]
  },
  {
   "cell_type": "code",
   "execution_count": null,
   "id": "bdacc2e8",
   "metadata": {},
   "outputs": [],
   "source": [
    "#特征归一化\n",
    "import pandas as pd\n",
    "from sklearn.preprocessing import StandardScaler\n",
    "cols = ['Age', 'RoomService', 'FoodCourt','ShoppingMall','Spa','VRDeck','Cabin_num','Deck_num']  \n",
    "scaler = StandardScaler()\n",
    "train_df[cols] = scaler.fit_transform(train_df[cols])\n",
    "\n",
    "train_df.to_csv('processed_train.csv', index=False)"
   ]
  },
  {
   "cell_type": "code",
   "execution_count": null,
   "id": "4344afa5",
   "metadata": {},
   "outputs": [],
   "source": [
    "#对test集进行预处理\n",
    "test_df = test_df.drop(['PassengerId', 'Name'], axis=1)"
   ]
  },
  {
   "cell_type": "code",
   "execution_count": null,
   "id": "4319885b",
   "metadata": {},
   "outputs": [],
   "source": [
    "test_df[[\"Deck\", \"Cabin_num\", \"Side\"]] = test_df[\"Cabin\"].str.split(\"/\", expand=True)\n",
    "test_df = test_df.drop('Cabin', axis=1)\n",
    "test_df['Destination'].fillna(test_df['Destination'].mode()[0], inplace=True)\n",
    "test_df['VIP'].fillna(test_df['VIP'].mode()[0], inplace=True)\n",
    "test_df['Age'].fillna(test_df['Age'].mode()[0], inplace=True)\n",
    "test_df['FoodCourt'].fillna(0, inplace=True)\n",
    "test_df['RoomService'].fillna(0, inplace=True)\n",
    "test_df['ShoppingMall'].fillna(0, inplace=True)\n",
    "test_df['Spa'].fillna(0, inplace=True)\n",
    "test_df['VRDeck'].fillna(0, inplace=True)\n",
    "test_df['Deck'].fillna(test_df['Deck'].mode()[0], inplace=True)\n",
    "test_df['Cabin_num'].fillna(test_df['Cabin_num'].mode()[0], inplace=True)\n",
    "test_df['Side'].fillna(test_df['Side'].mode()[0], inplace=True)\n",
    "test_df.head()"
   ]
  },
  {
   "cell_type": "code",
   "execution_count": null,
   "id": "3ed32620",
   "metadata": {},
   "outputs": [],
   "source": [
    "test_df['VIP'] = test_df['VIP'].astype(float)\n",
    "test_df['CryoSleep'] = test_df['CryoSleep'].astype(float)\n",
    "HomePlanet2num={'Europa':0, 'Earth':1, 'Mars':2}\n",
    "test_df['HomePlanet_num'] = test_df['HomePlanet'].map(HomePlanet2num)\n",
    "Destination2num={'TRAPPIST-1e':0,'PSO J318.5-22':1, '55 Cancri e':2}\n",
    "test_df['Destination_num'] = test_df['Destination'].map(Destination2num)\n",
    "test_df['Deck_num'] = test_df['Deck'].apply(lambda x: ord(x)-ord('A') if pd.notnull(x) else np.nan)\n",
    "test_df=test_df.drop(['HomePlanet','Destination','Deck'], axis=1)\n",
    "Side2num={'P':0, 'S':1}\n",
    "test_df['Side'] = test_df['Side'].map(Side2num)\n",
    "test_df.head()"
   ]
  },
  {
   "cell_type": "code",
   "execution_count": null,
   "id": "be42eba6",
   "metadata": {},
   "outputs": [],
   "source": [
    "def set_missing_HomePlanet(df):\n",
    "    # 把完整的数值特征取出来，放入随机森林中进行训练\n",
    "    HP_df = df.drop('CryoSleep', axis=1)\n",
    "    # 乘客分成已知和未知两个部分\n",
    "    known_HP = HP_df[HP_df.HomePlanet_num.notnull()].values\n",
    "    unknown_HP = HP_df[HP_df.HomePlanet_num.isnull()].values\n",
    "\n",
    "    #使用随机森林模型来预测缺失值\n",
    "    rf_model = RandomForestRegressor()\n",
    "    rf_model.fit(np.concatenate((known_HP[:,:9],known_HP[:,10:]),axis=1), known_HP[:,9])\n",
    "    predicted_values = rf_model.predict(np.concatenate(( unknown_HP[:,:9], unknown_HP[:,10:]),axis=1))\n",
    "\n",
    "    # 将预测值填补回原始数据集\n",
    "    df.loc[df['HomePlanet_num'].isnull(), 'HomePlanet_num'] = predicted_values\n",
    "\n",
    "    return df\n",
    "test_df=set_missing_HomePlanet(test_df)"
   ]
  },
  {
   "cell_type": "code",
   "execution_count": null,
   "id": "bb8a4164",
   "metadata": {},
   "outputs": [],
   "source": [
    "test_df=set_missing_CryoSleep(test_df)"
   ]
  },
  {
   "cell_type": "code",
   "execution_count": null,
   "id": "f60e01be",
   "metadata": {},
   "outputs": [],
   "source": [
    "#特征归一化\n",
    "import pandas as pd\n",
    "from sklearn.preprocessing import StandardScaler\n",
    "cols = ['Age', 'RoomService', 'FoodCourt','ShoppingMall','Spa','VRDeck','Cabin_num','Deck_num']  \n",
    "scaler = StandardScaler()\n",
    "test_df[cols] = scaler.fit_transform(test_df[cols])\n",
    "test_df.to_csv('processed_test.csv', index=False)"
   ]
  },
  {
   "cell_type": "code",
   "execution_count": null,
   "id": "7be6b2df",
   "metadata": {},
   "outputs": [],
   "source": [
    "test_df.head()"
   ]
  }
 ],
 "metadata": {
  "kernelspec": {
   "display_name": "Python 3",
   "language": "python",
   "name": "python3"
  },
  "language_info": {
   "codemirror_mode": {
    "name": "ipython",
    "version": 3
   },
   "file_extension": ".py",
   "mimetype": "text/x-python",
   "name": "python",
   "nbconvert_exporter": "python",
   "pygments_lexer": "ipython3",
   "version": "3.10.6"
  }
 },
 "nbformat": 4,
 "nbformat_minor": 5
}
